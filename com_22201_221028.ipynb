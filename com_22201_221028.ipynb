{
  "nbformat": 4,
  "nbformat_minor": 0,
  "metadata": {
    "colab": {
      "provenance": [],
      "authorship_tag": "ABX9TyOJ6cXIZjWa+iuP9NZF7SYD",
      "include_colab_link": true
    },
    "kernelspec": {
      "name": "python3",
      "display_name": "Python 3"
    },
    "language_info": {
      "name": "python"
    }
  },
  "cells": [
    {
      "cell_type": "markdown",
      "metadata": {
        "id": "view-in-github",
        "colab_type": "text"
      },
      "source": [
        "<a href=\"https://colab.research.google.com/github/ohyeju1/com_221028/blob/main/com_22201_221028.ipynb\" target=\"_parent\"><img src=\"https://colab.research.google.com/assets/colab-badge.svg\" alt=\"Open In Colab\"/></a>"
      ]
    },
    {
      "cell_type": "markdown",
      "source": [
        "문제를 냅니다."
      ],
      "metadata": {
        "id": "r_tGMAqi-KWY"
      }
    },
    {
      "cell_type": "code",
      "source": [
        "total=0\n",
        "counter=1\n",
        "while counter<=10:\n",
        "  grade=int(input(\"점수를 입력하시오.:\"))\n",
        "  total=grade+total\n",
        "  counter=counter+1\n",
        "average=total/10\n",
        "print(average)\n"
      ],
      "metadata": {
        "colab": {
          "base_uri": "https://localhost:8080/"
        },
        "id": "aPYXIIWc_WcI",
        "outputId": "5a25d49f-6e38-4ad2-e1ae-d63d970a2096"
      },
      "execution_count": null,
      "outputs": [
        {
          "output_type": "stream",
          "name": "stdout",
          "text": [
            "점수를 입력하시오.:10\n",
            "점수를 입력하시오.:10\n",
            "점수를 입력하시오.:10\n",
            "점수를 입력하시오.:10\n",
            "점수를 입력하시오.:10\n",
            "점수를 입력하시오.:10\n",
            "점수를 입력하시오.:10\n",
            "점수를 입력하시오.:10\n",
            "점수를 입력하시오.:10\n",
            "점수를 입력하시오.:10\n",
            "10.0\n"
          ]
        }
      ]
    },
    {
      "cell_type": "code",
      "source": [
        "x=10\n",
        "y=2\n",
        "result=x+y\n",
        "print(result)"
      ],
      "metadata": {
        "colab": {
          "base_uri": "https://localhost:8080/"
        },
        "id": "lIBQfHpbESr_",
        "outputId": "8b173c05-b55b-483a-8736-6881bcacbf50"
      },
      "execution_count": null,
      "outputs": [
        {
          "output_type": "stream",
          "name": "stdout",
          "text": [
            "12\n"
          ]
        }
      ]
    },
    {
      "cell_type": "code",
      "source": [
        "print(\"Hello World! 안녕 파이썬!\");\n",
        "print(\"Hello World! 안녕 파이썬!\")"
      ],
      "metadata": {
        "colab": {
          "base_uri": "https://localhost:8080/"
        },
        "id": "PzXcziGAFGTP",
        "outputId": "763a3087-660f-462a-9be8-3b99a96b3024"
      },
      "execution_count": null,
      "outputs": [
        {
          "output_type": "stream",
          "name": "stdout",
          "text": [
            "Hello World! 안녕 파이썬!\n",
            "Hello World! 안녕 파이썬!\n"
          ]
        }
      ]
    },
    {
      "cell_type": "code",
      "source": [
        "print(\"#\"*15)\n",
        "print(\"#안녕하세요?#\")\n",
        "print(\"#\"*15)"
      ],
      "metadata": {
        "colab": {
          "base_uri": "https://localhost:8080/"
        },
        "id": "_aVaduaUHTE_",
        "outputId": "7ae1fbbc-09fb-4532-9ebb-701272db09a8"
      },
      "execution_count": null,
      "outputs": [
        {
          "output_type": "stream",
          "name": "stdout",
          "text": [
            "###############\n",
            "#안녕하세요?#\n",
            "###############\n"
          ]
        }
      ]
    },
    {
      "cell_type": "code",
      "execution_count": null,
      "metadata": {
        "colab": {
          "base_uri": "https://localhost:8080/"
        },
        "id": "-4zXVhtH-JHl",
        "outputId": "c00238c3-845e-44d3-93ff-07dc82ff29a9"
      },
      "outputs": [
        {
          "output_type": "stream",
          "name": "stdout",
          "text": [
            "7\n"
          ]
        }
      ],
      "source": [
        "print(4+3);"
      ]
    },
    {
      "cell_type": "code",
      "source": [
        "print(\"3개의 값을 입력하시오.\")\n",
        "x=int(input(\"x의 값을 입력하시오.\"))\n",
        "y=int(input(\"y의 값을 입력하시오.\"))\n",
        "z=int(input(\"z의 값을 입력하시오.\"))\n",
        "x=x+1\n",
        "y=y+1\n",
        "z=z+1\n",
        "print(\"변경된 값은:\",x,y,z,\"로 변경되었습니다.\")"
      ],
      "metadata": {
        "colab": {
          "base_uri": "https://localhost:8080/"
        },
        "id": "1E6X7iltKAq-",
        "outputId": "0d7944d0-004b-48a2-bace-d1c2c63dc095"
      },
      "execution_count": null,
      "outputs": [
        {
          "output_type": "stream",
          "name": "stdout",
          "text": [
            "3개의 값을 입력하시오.\n",
            "x의 값을 입력하시오.1\n",
            "y의 값을 입력하시오.2\n",
            "z의 값을 입력하시오.3\n",
            "변경된 값은: 2 3 4 로 변경되었습니다.\n"
          ]
        }
      ]
    },
    {
      "cell_type": "code",
      "source": [
        "won=10000\n",
        "usd=won*1418\n",
        "print(usd)"
      ],
      "metadata": {
        "colab": {
          "base_uri": "https://localhost:8080/"
        },
        "id": "r4VNymaANFHu",
        "outputId": "4a48f542-0d13-416a-deb7-c2b2e88460fe"
      },
      "execution_count": null,
      "outputs": [
        {
          "output_type": "stream",
          "name": "stdout",
          "text": [
            "14180000\n"
          ]
        }
      ]
    },
    {
      "cell_type": "code",
      "source": [
        "print(\"현재 환율을 입력하시오.\")\n",
        "exchange_rate=int(input(\"달러와 환율을 입력:\"))\n",
        "won=int(input(\"한화금액을 입력하시오.:\"))\n",
        "usd=won*exchange_rate\n",
        "print(usd)"
      ],
      "metadata": {
        "colab": {
          "base_uri": "https://localhost:8080/"
        },
        "id": "4MCEz4FpNwK9",
        "outputId": "2201b238-ff0e-4a51-e5a0-abadf5ed50cd"
      },
      "execution_count": null,
      "outputs": [
        {
          "output_type": "stream",
          "name": "stdout",
          "text": [
            "현재 환율을 입력하시오.\n",
            "달러와 환율을 입력:1418\n",
            "한화금액을 입력하시오.:5000\n",
            "7090000\n"
          ]
        }
      ]
    },
    {
      "cell_type": "code",
      "source": [
        "fahrenheit=100\n",
        "celsius=fahrenheit-32\n",
        "celsius=celsius*5\n",
        "celsius=celsius/9\n",
        "print(celsius)"
      ],
      "metadata": {
        "colab": {
          "base_uri": "https://localhost:8080/"
        },
        "id": "6YCeVwYLPHmO",
        "outputId": "0e58d129-058e-47d3-d220-08479dd96ad8"
      },
      "execution_count": null,
      "outputs": [
        {
          "output_type": "stream",
          "name": "stdout",
          "text": [
            "37.77777777777778\n"
          ]
        }
      ]
    },
    {
      "cell_type": "code",
      "source": [
        "fahrenheit=100\n",
        "celsius=5*(fahrenheit-32)/9\n",
        "print(celsius)"
      ],
      "metadata": {
        "colab": {
          "base_uri": "https://localhost:8080/"
        },
        "id": "gwiLNxZ5PtT9",
        "outputId": "00b0ed3e-8022-4f3a-9426-e03e3e348aca"
      },
      "execution_count": null,
      "outputs": [
        {
          "output_type": "stream",
          "name": "stdout",
          "text": [
            "37.77777777777778\n"
          ]
        }
      ]
    }
  ]
}